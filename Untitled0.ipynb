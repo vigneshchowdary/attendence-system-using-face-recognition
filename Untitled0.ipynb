{
  "nbformat": 4,
  "nbformat_minor": 0,
  "metadata": {
    "colab": {
      "name": "Untitled0.ipynb",
      "provenance": [],
      "collapsed_sections": [],
      "authorship_tag": "ABX9TyN1r8Zu3J56GMfMjg6+RJp+",
      "include_colab_link": true
    },
    "kernelspec": {
      "name": "python3",
      "display_name": "Python 3"
    },
    "language_info": {
      "name": "python"
    }
  },
  "cells": [
    {
      "cell_type": "markdown",
      "metadata": {
        "id": "view-in-github",
        "colab_type": "text"
      },
      "source": [
        "<a href=\"https://colab.research.google.com/github/vigneshchowdary/attendence-system-using-face-recognition/blob/master/Untitled0.ipynb\" target=\"_parent\"><img src=\"https://colab.research.google.com/assets/colab-badge.svg\" alt=\"Open In Colab\"/></a>"
      ]
    },
    {
      "cell_type": "code",
      "metadata": {
        "colab": {
          "base_uri": "https://localhost:8080/"
        },
        "id": "vO6KJr3rAam-",
        "outputId": "795c5fb5-76f5-495d-96f9-83678379fcd8"
      },
      "source": [
        "pip install pdfminer.six"
      ],
      "execution_count": 2,
      "outputs": [
        {
          "output_type": "stream",
          "text": [
            "Collecting pdfminer.six\n",
            "\u001b[?25l  Downloading https://files.pythonhosted.org/packages/93/f3/4fec7dabe8802ebec46141345bf714cd1fc7d93cb74ddde917e4b6d97d88/pdfminer.six-20201018-py3-none-any.whl (5.6MB)\n",
            "\u001b[K     |████████████████████████████████| 5.6MB 8.2MB/s \n",
            "\u001b[?25hCollecting cryptography\n",
            "\u001b[?25l  Downloading https://files.pythonhosted.org/packages/b2/26/7af637e6a7e87258b963f1731c5982fb31cd507f0d90d91836e446955d02/cryptography-3.4.7-cp36-abi3-manylinux2014_x86_64.whl (3.2MB)\n",
            "\u001b[K     |████████████████████████████████| 3.2MB 39.7MB/s \n",
            "\u001b[?25hRequirement already satisfied: sortedcontainers in /usr/local/lib/python3.7/dist-packages (from pdfminer.six) (2.3.0)\n",
            "Requirement already satisfied: chardet; python_version > \"3.0\" in /usr/local/lib/python3.7/dist-packages (from pdfminer.six) (3.0.4)\n",
            "Requirement already satisfied: cffi>=1.12 in /usr/local/lib/python3.7/dist-packages (from cryptography->pdfminer.six) (1.14.5)\n",
            "Requirement already satisfied: pycparser in /usr/local/lib/python3.7/dist-packages (from cffi>=1.12->cryptography->pdfminer.six) (2.20)\n",
            "Installing collected packages: cryptography, pdfminer.six\n",
            "Successfully installed cryptography-3.4.7 pdfminer.six-20201018\n"
          ],
          "name": "stdout"
        }
      ]
    },
    {
      "cell_type": "code",
      "metadata": {
        "id": "-BptHdSi-LZ8"
      },
      "source": [
        "import spacy\n",
        "import pickle\n",
        "import random"
      ],
      "execution_count": 1,
      "outputs": []
    },
    {
      "cell_type": "code",
      "metadata": {
        "colab": {
          "base_uri": "https://localhost:8080/"
        },
        "id": "XaFewDhT-Zcs",
        "outputId": "85ec7b22-0509-4b83-9ed5-d46e40c7b2ab"
      },
      "source": [
        "train_data = pickle.load(open('/content/train_data.pkl', 'rb'))\n",
        "train_data[0]"
      ],
      "execution_count": 3,
      "outputs": [
        {
          "output_type": "execute_result",
          "data": {
            "text/plain": [
              "('Govardhana K Senior Software Engineer  Bengaluru, Karnataka, Karnataka - Email me on Indeed: indeed.com/r/Govardhana-K/ b2de315d95905b68  Total IT experience 5 Years 6 Months Cloud Lending Solutions INC 4 Month • Salesforce Developer Oracle 5 Years 2 Month • Core Java Developer Languages Core Java, Go Lang Oracle PL-SQL programming, Sales Force Developer with APEX.  Designations & Promotions  Willing to relocate: Anywhere  WORK EXPERIENCE  Senior Software Engineer  Cloud Lending Solutions -  Bangalore, Karnataka -  January 2018 to Present  Present  Senior Consultant  Oracle -  Bangalore, Karnataka -  November 2016 to December 2017  Staff Consultant  Oracle -  Bangalore, Karnataka -  January 2014 to October 2016  Associate Consultant  Oracle -  Bangalore, Karnataka -  November 2012 to December 2013  EDUCATION  B.E in Computer Science Engineering  Adithya Institute of Technology -  Tamil Nadu  September 2008 to June 2012  https://www.indeed.com/r/Govardhana-K/b2de315d95905b68?isid=rex-download&ikw=download-top&co=IN https://www.indeed.com/r/Govardhana-K/b2de315d95905b68?isid=rex-download&ikw=download-top&co=IN   SKILLS  APEX. (Less than 1 year), Data Structures (3 years), FLEXCUBE (5 years), Oracle (5 years), Algorithms (3 years)  LINKS  https://www.linkedin.com/in/govardhana-k-61024944/  ADDITIONAL INFORMATION  Technical Proficiency:  Languages: Core Java, Go Lang, Data Structures & Algorithms, Oracle PL-SQL programming, Sales Force with APEX. Tools: RADTool, Jdeveloper, NetBeans, Eclipse, SQL developer, PL/SQL Developer, WinSCP, Putty Web Technologies: JavaScript, XML, HTML, Webservice  Operating Systems: Linux, Windows Version control system SVN & Git-Hub Databases: Oracle Middleware: Web logic, OC4J Product FLEXCUBE: Oracle FLEXCUBE Versions 10.x, 11.x and 12.x  https://www.linkedin.com/in/govardhana-k-61024944/',\n",
              " {'entities': [(1749, 1755, 'Companies worked at'),\n",
              "   (1696, 1702, 'Companies worked at'),\n",
              "   (1417, 1423, 'Companies worked at'),\n",
              "   (1356, 1793, 'Skills'),\n",
              "   (1209, 1215, 'Companies worked at'),\n",
              "   (1136, 1248, 'Skills'),\n",
              "   (928, 932, 'Graduation Year'),\n",
              "   (858, 889, 'College Name'),\n",
              "   (821, 856, 'Degree'),\n",
              "   (787, 791, 'Graduation Year'),\n",
              "   (744, 750, 'Companies worked at'),\n",
              "   (722, 742, 'Designation'),\n",
              "   (658, 664, 'Companies worked at'),\n",
              "   (640, 656, 'Designation'),\n",
              "   (574, 580, 'Companies worked at'),\n",
              "   (555, 573, 'Designation'),\n",
              "   (470, 493, 'Companies worked at'),\n",
              "   (444, 469, 'Designation'),\n",
              "   (308, 314, 'Companies worked at'),\n",
              "   (234, 240, 'Companies worked at'),\n",
              "   (175, 198, 'Companies worked at'),\n",
              "   (93, 137, 'Email Address'),\n",
              "   (39, 48, 'Location'),\n",
              "   (13, 38, 'Designation'),\n",
              "   (0, 12, 'Name')]})"
            ]
          },
          "metadata": {
            "tags": []
          },
          "execution_count": 3
        }
      ]
    },
    {
      "cell_type": "code",
      "metadata": {
        "id": "Jqt415Xu-1WH"
      },
      "source": [
        "nlp = spacy.blank('en')\n",
        "\n",
        "def train_model(train_data):\n",
        "    if 'ner' not in nlp.pipe_names:\n",
        "        ner = nlp.create_pipe('ner')\n",
        "        nlp.add_pipe(ner, last = True)\n",
        "    \n",
        "    for _, annotation in train_data:\n",
        "        for ent in annotation['entities']:\n",
        "            ner.add_label(ent[2])\n",
        "            \n",
        "    \n",
        "    other_pipes = [pipe for pipe in nlp.pipe_names if pipe != 'ner']\n",
        "    with nlp.disable_pipes(*other_pipes):  # only train NER\n",
        "        optimizer = nlp.begin_training()\n",
        "        for itn in range(6):\n",
        "            print(\"Statring iteration \" + str(itn))\n",
        "            random.shuffle(train_data)\n",
        "            losses = {}\n",
        "            index = 0\n",
        "            for text, annotations in train_data:\n",
        "                try:\n",
        "                    nlp.update(\n",
        "                        [text],  # batch of texts\n",
        "                        [annotations],  # batch of annotations\n",
        "                        drop=0.2,  # dropout - make it harder to memorise data\n",
        "                        sgd=optimizer,  # callable to update weights\n",
        "                        losses=losses)\n",
        "                except Exception as e:\n",
        "                    pass\n",
        "                \n",
        "            print(losses)"
      ],
      "execution_count": 14,
      "outputs": []
    },
    {
      "cell_type": "code",
      "metadata": {
        "id": "diPgxYec-7HP",
        "colab": {
          "base_uri": "https://localhost:8080/"
        },
        "outputId": "029a3bf4-4d2c-463a-fe04-23d5528b7aec"
      },
      "source": [
        "train_model(train_data)"
      ],
      "execution_count": 15,
      "outputs": [
        {
          "output_type": "stream",
          "text": [
            "Statring iteration 0\n",
            "{'ner': 12853.203908980011}\n",
            "Statring iteration 1\n",
            "{'ner': 12833.788775206378}\n",
            "Statring iteration 2\n",
            "{'ner': 7515.946946440366}\n",
            "Statring iteration 3\n",
            "{'ner': 7411.277182868766}\n",
            "Statring iteration 4\n",
            "{'ner': 5926.7116524911235}\n",
            "Statring iteration 5\n",
            "{'ner': 5447.283042514367}\n"
          ],
          "name": "stdout"
        }
      ]
    },
    {
      "cell_type": "code",
      "metadata": {
        "id": "-Tnlb_dx-_4J"
      },
      "source": [
        "nlp.to_disk('nlp_model')"
      ],
      "execution_count": 16,
      "outputs": []
    },
    {
      "cell_type": "code",
      "metadata": {
        "id": "JysFrxUi_EHx"
      },
      "source": [
        "nlp_model = spacy.load('nlp_model')"
      ],
      "execution_count": 17,
      "outputs": []
    },
    {
      "cell_type": "code",
      "metadata": {
        "colab": {
          "base_uri": "https://localhost:8080/",
          "height": 137
        },
        "id": "5Uxf0roW_G4I",
        "outputId": "f1415188-9c5f-4785-de0d-a4f55ede0ae2"
      },
      "source": [
        "train_data[0][0]"
      ],
      "execution_count": 18,
      "outputs": [
        {
          "output_type": "execute_result",
          "data": {
            "application/vnd.google.colaboratory.intrinsic+json": {
              "type": "string"
            },
            "text/plain": [
              "'amarjyot sodhi Voice and Accent Trainer :Masters in journalism and communication with 3 years experience  Faridabad, Haryana - Email me on Indeed: indeed.com/r/amarjyot-sodhi/ba2e5a3cbaeccdac  To constantly learn, enhance my skills and capabilities to reach higher level of competence and apply my knowledge and skill to the best of my ability in the interest of the organization. Accomplishment counts, not the non-executed ideas. So I just constantly execute the ideas in quest for the accomplishment.  WORK EXPERIENCE  Sales Associate  Shuttl -  Faridabad, Haryana -  September 2017 to May 2018  Query management and outbound sales  Associate  Sutherland -  Chennai, Tamil Nadu -  October 2016 to June 2017  ● Query Management ● Outbound/Inbound Calling ● Collections ● Customs Documentation work  voice and accent trainer  teleperformance microsoft -  Jaipur, Rajasthan -  October 2014 to February 2015  Responsibilities To train the students on there comm skills and cx handling skill  EDUCATION  masters in journalism and communication in mass comm client servicing  amity -  Noida, Uttar Pradesh  2011 to 2013  https://www.indeed.com/r/amarjyot-sodhi/ba2e5a3cbaeccdac?isid=rex-download&ikw=download-top&co=IN'"
            ]
          },
          "metadata": {
            "tags": []
          },
          "execution_count": 18
        }
      ]
    },
    {
      "cell_type": "code",
      "metadata": {
        "id": "7vPJFhVR_OM1",
        "colab": {
          "base_uri": "https://localhost:8080/"
        },
        "outputId": "1aabcf99-f31d-4034-8027-38ea2e240de9"
      },
      "source": [
        "from pdfminer.high_level import extract_text\n",
        "doc=extract_text(\"/content/vignesh chowdary resume-converted.pdf\")\n",
        "text = \"\"\n",
        "for page in doc:\n",
        "    text = text + str(page)\n",
        "\n",
        "tx = \" \".join(text.split('\\n'))\n",
        "print(tx)"
      ],
      "execution_count": 19,
      "outputs": [
        {
          "output_type": "stream",
          "text": [
            "vigneshchowdary2000@gmail.com   Bachelor of Science (B.Sc.), DATA SCIENCE AND DATA ANALYTICS ENGINEERING   Loyola Academy Degree and PG College  2018 - 2021  CGPA: 8.80/10   Vignesh Chowdary  Ph no.: +91 9010196804   Nizamabad, Bodhan   EDUCATION                  TRAININGS   Senior Secondary (XII), Science   Ushodaya Junior Collage  ((Senior Secondary Education))  Year of completion: 2018  CGPA: 6.98/10   Secondary (X)   St. Anthony’s High School  ((Secondary Education))  Year of completion: 2016  CGPA: 8.20/10   Tableau  Intern Shala Trainings, Online  May 2021 - Present   Currently doing six weeks online training on Tableau. The training consisted of  Getting Started with Tableau, Creating Charts in Tableau, making your charts  better, Filters, Sets, and Groups, Create Dashboard, Advanced, Messaging in  Tableau, Creatin g Advanced calculations, Etc.      Internship & Job Preparation  Intern Shala Trainings, Online  Oct 2020 - Nov 2020   Successfully completed a four weeks online certification and training on Internship  &  Job  Preparation.  The  training  consisted  of  Getting  Started  with  the  Job  Hunt,  building up your Gears and Going at the Front modules. In the final assessment, I  scored 7 8% marks.      Programming with Python  Intern Shala Trainings, Online  Sep 2020 - Oct 2020   Successfully completed six weeks online certification and training on Programming  with  Python. The training consisted of Introduction to Python, Using Variables in  Python, Basics of Programming in Python, Principles of Object-oriented  Programming (OOP), Connecting to SQLite Database, Developing a GUI and  Application of Python in Various Disciplines modules. In the final assessment, I  scored 85% marks.     A MACHINE LEARNING APPROCH FOR AUTOMATION OF RESUME  RECOMMENDATION SYSTEM   PROJECTS   \fApr 2021 - Present   This project involves team progress for getting the right person on right time. An  automated way of \"Resume Classi cation and Matching\" could really ease the  tedious process of fair screening and shortlisting.   SKILLS   Python   Intermediate   Tableau   Java   Beginner   MS-Excel   Intermediate                                                        Intermediate    WORK SAMPLES   GitHub pro le   https://github.com/vigneshchowdary   Another portfolio link https://www.linkedin.com/in/y-vignesh-chowdary- 24a8011ba/   ADDITIONAL DETAILS   Participated and Successfully completed the INTERNATIONAL LEVEL E-QUIZ on  PYTHON (Beginner level).   Successfully completed IT QUIZ on computer Knowledge organized by OM  COMPUTER CLASSES.                  \f\n"
          ],
          "name": "stdout"
        }
      ]
    },
    {
      "cell_type": "code",
      "metadata": {
        "colab": {
          "base_uri": "https://localhost:8080/"
        },
        "id": "KVa68Yjt0YzR",
        "outputId": "1840ad5a-ef46-4595-9594-35bafddea4d7"
      },
      "source": [
        "pip install pdfminer.six"
      ],
      "execution_count": 20,
      "outputs": [
        {
          "output_type": "stream",
          "text": [
            "Requirement already satisfied: pdfminer.six in /usr/local/lib/python3.7/dist-packages (20201018)\n",
            "Requirement already satisfied: chardet; python_version > \"3.0\" in /usr/local/lib/python3.7/dist-packages (from pdfminer.six) (3.0.4)\n",
            "Requirement already satisfied: sortedcontainers in /usr/local/lib/python3.7/dist-packages (from pdfminer.six) (2.3.0)\n",
            "Requirement already satisfied: cryptography in /usr/local/lib/python3.7/dist-packages (from pdfminer.six) (3.4.7)\n",
            "Requirement already satisfied: cffi>=1.12 in /usr/local/lib/python3.7/dist-packages (from cryptography->pdfminer.six) (1.14.5)\n",
            "Requirement already satisfied: pycparser in /usr/local/lib/python3.7/dist-packages (from cffi>=1.12->cryptography->pdfminer.six) (2.20)\n"
          ],
          "name": "stdout"
        }
      ]
    },
    {
      "cell_type": "code",
      "metadata": {
        "colab": {
          "base_uri": "https://localhost:8080/"
        },
        "id": "UgAcfvzf_OaW",
        "outputId": "34af1bdb-b5e2-4637-9a49-8ac3bf7f345d"
      },
      "source": [
        "doc = nlp_model(tx)\n",
        "for ent in doc.ents:\n",
        "    print(f'{ent.label_.upper():{30}}- {ent.text}')"
      ],
      "execution_count": 21,
      "outputs": [
        {
          "output_type": "stream",
          "text": [
            "NAME                          - vigneshchowdary2000@gmail.com   \n",
            "DEGREE                        - Bachelor of Science (B.Sc.), DATA SCIENCE AND DATA ANALYTICS ENGINEERING\n",
            "COLLEGE NAME                  - Loyola Academy Degree and PG College\n",
            "GRADUATION YEAR               - 2021\n"
          ],
          "name": "stdout"
        }
      ]
    },
    {
      "cell_type": "code",
      "metadata": {
        "id": "6UM8gHShB6zX"
      },
      "source": [
        ""
      ],
      "execution_count": null,
      "outputs": []
    }
  ]
}